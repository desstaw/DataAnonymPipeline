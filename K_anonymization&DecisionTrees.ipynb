{
  "nbformat": 4,
  "nbformat_minor": 0,
  "metadata": {
    "colab": {
      "provenance": [],
      "authorship_tag": "ABX9TyN7XAVnY7Mls6YJaHeA40nS",
      "include_colab_link": true
    },
    "kernelspec": {
      "name": "python3",
      "display_name": "Python 3"
    },
    "language_info": {
      "name": "python"
    }
  },
  "cells": [
    {
      "cell_type": "markdown",
      "metadata": {
        "id": "view-in-github",
        "colab_type": "text"
      },
      "source": [
        "<a href=\"https://colab.research.google.com/github/desstaw/DataAnonymPipeline/blob/main/K_anonymization%26DecisionTrees.ipynb\" target=\"_parent\"><img src=\"https://colab.research.google.com/assets/colab-badge.svg\" alt=\"Open In Colab\"/></a>"
      ]
    },
    {
      "cell_type": "code",
      "execution_count": 101,
      "metadata": {
        "colab": {
          "base_uri": "https://localhost:8080/"
        },
        "id": "Fe7k7V9L_ijI",
        "outputId": "a7bc3066-5d7e-4a08-b066-dc04b7954fb2"
      },
      "outputs": [
        {
          "output_type": "stream",
          "name": "stdout",
          "text": [
            "Mounted at /content/drive/\n"
          ]
        }
      ],
      "source": [
        "from google.colab import drive\n",
        "drive.mount('/content/drive/', force_remount=True)"
      ]
    },
    {
      "cell_type": "code",
      "source": [
        "!pip install anonypy"
      ],
      "metadata": {
        "colab": {
          "base_uri": "https://localhost:8080/"
        },
        "id": "sKrSYVP1JOe6",
        "outputId": "553d9ba4-12b6-41ba-9484-86bb68a283cc"
      },
      "execution_count": 102,
      "outputs": [
        {
          "output_type": "stream",
          "name": "stdout",
          "text": [
            "Looking in indexes: https://pypi.org/simple, https://us-python.pkg.dev/colab-wheels/public/simple/\n",
            "Requirement already satisfied: anonypy in /usr/local/lib/python3.9/dist-packages (0.1.7)\n"
          ]
        }
      ]
    },
    {
      "cell_type": "code",
      "source": [
        "#Basic imports\n",
        "from sklearn.tree import DecisionTreeClassifier # Import Decision Tree Classifier\n",
        "from sklearn.model_selection import train_test_split # Import train_test_split function\n",
        "from sklearn import metrics #Import scikit-learn metrics module for accuracy calculation\n",
        "import anonypy\n",
        "\n",
        "import numpy as np\n",
        "import pandas as pd\n",
        "import statsmodels.api as sm\n",
        "import matplotlib.pyplot as plt\n",
        "import seaborn as sns\n",
        "sns.set()\n",
        "from sklearn.cluster import KMeans\n",
        "from sklearn.metrics import precision_score\n",
        "from sklearn.metrics import recall_score\n",
        "from sklearn.metrics import f1_score\n",
        "from sklearn.metrics import classification_report\n",
        "from sklearn.neighbors import KNeighborsClassifier  \n",
        "\n",
        "\n",
        "\n",
        "#plotly imports\n",
        "import plotly as py\n",
        "import plotly.graph_objs as go\n",
        "from plotly.offline import download_plotlyjs, init_notebook_mode, plot, iplot\n",
        "\n",
        "import warnings\n",
        "warnings.simplefilter('ignore')\n",
        "\n",
        "df = pd.read_csv(\"/content/drive/MyDrive/heart.csv\")"
      ],
      "metadata": {
        "id": "M_iDoFIU_mKC"
      },
      "execution_count": 103,
      "outputs": []
    },
    {
      "cell_type": "code",
      "source": [
        "#oldpeak to int\n",
        "df['oldpeak'] = df['oldpeak'].astype(int) \n",
        "#categorical to object\n",
        "df['sex'] = df['sex'].astype(object) \n",
        "df['cp'] = df['cp'].astype(object) \n",
        "df['fbs'] = df['fbs'].astype(object) \n",
        "df['restecg'] = df['restecg'].astype(object) \n",
        "df['exang'] = df['exang'].astype(object) \n",
        "df['slope'] = df['slope'].astype(object) \n",
        "df['ca'] = df['ca'].astype(object) \n",
        "df['thal'] = df['thal'].astype(object) \n",
        "df['target'] = df['target'].astype(int) "
      ],
      "metadata": {
        "id": "Z2bQKL35_9ZJ"
      },
      "execution_count": 104,
      "outputs": []
    },
    {
      "cell_type": "code",
      "source": [
        "#normalize numerical features\n",
        "from sklearn.preprocessing import MinMaxScaler\n",
        "\n",
        "df_norm = df.copy()\n",
        "scaler = MinMaxScaler()\n",
        "#scaler.fit(data)\n",
        "df_norm[['trestbps', 'chol', 'thalach', 'oldpeak']] = scaler.fit_transform(df_norm[['trestbps', 'chol', 'thalach', 'oldpeak']])"
      ],
      "metadata": {
        "id": "ovhDB6EEAD_p"
      },
      "execution_count": 105,
      "outputs": []
    },
    {
      "cell_type": "code",
      "source": [
        "print(df_norm.columns)"
      ],
      "metadata": {
        "colab": {
          "base_uri": "https://localhost:8080/"
        },
        "id": "yIHXSSH1KP5C",
        "outputId": "d8d47ef4-d2b0-442e-b99e-13224f6db372"
      },
      "execution_count": 106,
      "outputs": [
        {
          "output_type": "stream",
          "name": "stdout",
          "text": [
            "Index(['age', 'sex', 'cp', 'trestbps', 'chol', 'fbs', 'restecg', 'thalach',\n",
            "       'exang', 'oldpeak', 'slope', 'ca', 'thal', 'target'],\n",
            "      dtype='object')\n"
          ]
        }
      ]
    },
    {
      "cell_type": "code",
      "source": [
        "def k_anonymize(dataset, columns):\n",
        "    \"\"\"\n",
        "    Anonymize certain columns of the database\n",
        "    using suppression and generalization\n",
        "    \n",
        "    :param dataset: The set of columns and rows composing the dataset\n",
        "    :param columns: Specific columns which entries are considered sensitive\n",
        "    \n",
        "    \"\"\"\n",
        "    \n",
        "    anon_dataset = dataset.copy()\n",
        "    \n",
        "    # Target all sensitive columns\n",
        "    for column in columns:\n",
        "        column_label = column['label']\n",
        "        if column['type'] == 'suppressed':\n",
        "            # Replace all characters with asterix\n",
        "            anon_dataset[column_label] = ['*' for x in anon_dataset[column_label]]\n",
        "        \n",
        "        if column['type'] == 'semi-suppressed':\n",
        "            # Replace 70% of the characters with asterix\n",
        "            anon_dataset[column_label] = [('*'*(round(len(x)*.7)) + x[(round(len(x)*.7)):]) for x in anon_dataset[column_label]]\n",
        "        \n",
        "        if column['type'] == 'generalized':\n",
        "            # Summarize the data using ranges\n",
        "            for i in range(len(anon_dataset[column_label])):\n",
        "                # convert column type from int to string\n",
        "                anon_dataset[column_label] = anon_dataset[column_label].astype(str)\n",
        "                x = int(anon_dataset[column_label][i])\n",
        "                if x <= 40: anon_dataset[column_label][i] =  \"0-40\"\n",
        "                if x > 40 and x <= 60: anon_dataset[column_label][i] =  \"40-60\"\n",
        "                if x > 60 and x <= 100: anon_dataset[column_label][i] =  \"> 60\"\n",
        "            # specify the categories\n",
        "            categories = ['0-40', '40-60', '> 60']\n",
        "            # change the \"fruit\" column to the category data type\n",
        "            anon_dataset['age'] = pd.Categorical(anon_dataset['age'], categories=categories)\n",
        "            # convert the \"fruit\" column to float values using the cat.codes attribute\n",
        "            anon_dataset['age'] = anon_dataset['age'].cat.codes.astype(float)\n",
        "    return anon_dataset\n",
        "\n",
        "# Describe the columns and their respective anonymization type\n",
        "columns = [\n",
        "    #{\"label\": \"country\", \"type\": \"semi-suppressed\"},\n",
        "    {\"label\": \"sex\", \"type\": \"suppressed\"},\n",
        "    #{\"label\": \"condition\", \"type\": \"semi-suppressed\"},\n",
        "    {\"label\": \"age\", \"type\": \"generalized\"}\n",
        "]\n",
        "\n",
        "dataset = df_norm\n",
        "anonymized_dataset = k_anonymize(dataset, columns)"
      ],
      "metadata": {
        "id": "Qkit0vm3qaMj"
      },
      "execution_count": 107,
      "outputs": []
    },
    {
      "cell_type": "code",
      "source": [
        "# drop the \"price\" column\n",
        "anonymized_dataset = anonymized_dataset.drop('sex', axis=1)"
      ],
      "metadata": {
        "id": "uVGWz1fxkY2a"
      },
      "execution_count": 108,
      "outputs": []
    },
    {
      "cell_type": "code",
      "source": [
        "#anonymized_dataset['age'] = anonymized_dataset['age'].astype('object')\n",
        "#anonymized_dataset.head(100)\n",
        "print(anonymized_dataset.head(100))\n"
      ],
      "metadata": {
        "colab": {
          "base_uri": "https://localhost:8080/"
        },
        "id": "gNQ1W0HZKgbC",
        "outputId": "e77b1791-3094-4da2-8269-108bd2ebf16f"
      },
      "execution_count": 109,
      "outputs": [
        {
          "output_type": "stream",
          "name": "stdout",
          "text": [
            "    age cp  trestbps      chol fbs restecg   thalach exang   oldpeak slope ca  \\\n",
            "0   1.0  0  0.292453  0.196347   0       1  0.740458     0  0.166667     2  2   \n",
            "1   1.0  0  0.433962  0.175799   1       0  0.641221     1  0.500000     0  0   \n",
            "2   2.0  0  0.481132  0.109589   0       1  0.412214     1  0.333333     0  0   \n",
            "3   2.0  0  0.509434  0.175799   0       1  0.687023     0  0.000000     2  1   \n",
            "4   2.0  0  0.415094  0.383562   1       1  0.267176     0  0.166667     1  3   \n",
            "..  ... ..       ...       ...  ..     ...       ...   ...       ...   ... ..   \n",
            "95  1.0  0  0.415094  0.251142   0       0  0.618321     1  0.000000     1  0   \n",
            "96  1.0  0  0.320755  0.404110   0       0  0.671756     0  0.000000     2  1   \n",
            "97  1.0  0  0.273585  0.356164   0       1  0.183206     1  0.333333     1  2   \n",
            "98  2.0  0  0.150943  0.278539   0       0  0.664122     0  0.000000     2  2   \n",
            "99  2.0  2  0.433962  0.162100   0       2  0.343511     0  0.166667     1  0   \n",
            "\n",
            "   thal  target  \n",
            "0     3       0  \n",
            "1     3       0  \n",
            "2     3       0  \n",
            "3     3       0  \n",
            "4     2       0  \n",
            "..  ...     ...  \n",
            "95    2       1  \n",
            "96    2       1  \n",
            "97    3       0  \n",
            "98    1       0  \n",
            "99    2       1  \n",
            "\n",
            "[100 rows x 13 columns]\n"
          ]
        }
      ]
    },
    {
      "cell_type": "code",
      "source": [
        "#age_scale = {'0-40':0, '40-60':1, '> 60':2}\n",
        "#anonymized_dataset['age'] = anonymized_dataset.apply(lambda x: age_scale[x])"
      ],
      "metadata": {
        "id": "2OUBy2ujihJ6"
      },
      "execution_count": 110,
      "outputs": []
    },
    {
      "cell_type": "code",
      "source": [
        "X = df_norm.iloc[:, df_norm.columns != 'target'].values \n",
        "y = df_norm['target'].values\n",
        "from sklearn.model_selection import train_test_split  \n",
        "X_train, X_test, y_train, y_test= train_test_split(X, y, test_size= 0.25, random_state=4)"
      ],
      "metadata": {
        "id": "jg7Frk6ZM7R6"
      },
      "execution_count": 111,
      "outputs": []
    },
    {
      "cell_type": "code",
      "source": [
        "classifier= KNeighborsClassifier(n_neighbors=6)  \n",
        "classifier.fit(X_train, y_train)\n",
        "y_pred= classifier.predict(X_test) "
      ],
      "metadata": {
        "id": "XlHWk0eXSoWS"
      },
      "execution_count": 112,
      "outputs": []
    },
    {
      "cell_type": "code",
      "source": [
        "# Model Accuracy, how often is the classifier correct?\n",
        "print(\"Accuracy:\",metrics.accuracy_score(y_test, y_pred))"
      ],
      "metadata": {
        "colab": {
          "base_uri": "https://localhost:8080/"
        },
        "id": "Ux_dSxnYNAvS",
        "outputId": "3be7e543-3942-4cee-e5d8-4c4f37f1843d"
      },
      "execution_count": 113,
      "outputs": [
        {
          "output_type": "stream",
          "name": "stdout",
          "text": [
            "Accuracy: 0.9027237354085603\n"
          ]
        }
      ]
    },
    {
      "cell_type": "code",
      "source": [
        "X = anonymized_dataset.iloc[:, anonymized_dataset.columns != 'target']\n",
        "y = anonymized_dataset['target']\n",
        "from sklearn.model_selection import train_test_split  \n",
        "X_train, X_test, y_train, y_test= train_test_split(X, y, test_size= 0.25, random_state=4)"
      ],
      "metadata": {
        "id": "yJHaQcKWND5C"
      },
      "execution_count": 114,
      "outputs": []
    },
    {
      "cell_type": "code",
      "source": [
        "classifier= KNeighborsClassifier(n_neighbors=6)  \n",
        "classifier.fit(X_train, y_train)\n",
        "y_pred= classifier.predict(X_test) "
      ],
      "metadata": {
        "id": "oZC3clDUNEkS"
      },
      "execution_count": 115,
      "outputs": []
    },
    {
      "cell_type": "code",
      "source": [
        "# Model Accuracy, how often is the classifier correct?\n",
        "print(\"Accuracy:\",metrics.accuracy_score(y_test, y_pred))"
      ],
      "metadata": {
        "colab": {
          "base_uri": "https://localhost:8080/"
        },
        "id": "Pw0WfTH9NHoy",
        "outputId": "e1a88a27-499e-48dc-f321-4d155cca10af"
      },
      "execution_count": 116,
      "outputs": [
        {
          "output_type": "stream",
          "name": "stdout",
          "text": [
            "Accuracy: 0.8404669260700389\n"
          ]
        }
      ]
    }
  ]
}